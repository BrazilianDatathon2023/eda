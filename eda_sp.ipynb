{
 "cells": [
  {
   "cell_type": "code",
   "execution_count": 2,
   "metadata": {},
   "outputs": [],
   "source": [
    "import matplotlib.pyplot as plt\n",
    "import pandas as pd\n",
    "import zipfile\n",
    "import io"
   ]
  },
  {
   "cell_type": "code",
   "execution_count": 3,
   "metadata": {},
   "outputs": [],
   "source": [
    "def read_csv_from_zip(zip_file, state=None, year=None):\n",
    "    \"\"\"\n",
    "    Reads a CSV file from a zip file, given a state and year. Returns a Pandas DataFrame.\n",
    "    \n",
    "    Parameters:\n",
    "        - zip_file: The name of the zip file to read from.\n",
    "        - state: The two-letter state code to read from (e.g. \"RJ\"). Optional.\n",
    "        - year: The year to read from (e.g. 2003). Optional.\n",
    "        \n",
    "    Returns:\n",
    "        A Pandas DataFrame containing the contents of the CSV file(s).\n",
    "    \"\"\"\n",
    "    zf = zipfile.ZipFile(zip_file)\n",
    "    \n",
    "    if state and year:\n",
    "        filename = f\"ETLSINASC.DNRES_{state}_{year}_t.csv\"\n",
    "        if filename in zf.namelist():\n",
    "            with zf.open(filename) as f:\n",
    "                df = pd.read_csv(io.StringIO(f.read().decode()), on_bad_lines='skip')\n",
    "            return df\n",
    "        else:\n",
    "            raise ValueError(f\"No file found for state '{state}' and year '{year}'.\")\n",
    "    \n",
    "    elif state:\n",
    "        dfs = []\n",
    "        for file in zf.namelist():\n",
    "            if file.endswith(\".csv\") and f\"_{state}_\" in file:\n",
    "                year = file.split(\"_\")[-2]\n",
    "                print(year)\n",
    "                with zf.open(file) as f:\n",
    "                    df = pd.read_csv(io.StringIO(f.read().decode()), on_bad_lines='skip')\n",
    "                dfs.append(df)\n",
    "        if len(dfs) == 0:\n",
    "            raise ValueError(f\"No files found for state '{state}'.\")\n",
    "        else:\n",
    "            return pd.concat(dfs, ignore_index=True)\n",
    "    \n",
    "    elif year:\n",
    "        dfs = pd.DataFrame()\n",
    "        for file in zf.namelist():\n",
    "            if file.endswith(\".csv\") and f\"_{year}_\" in file:\n",
    "                state = file.split(\"_\")[2]\n",
    "                with zf.open(file) as f:\n",
    "                    df = pd.read_csv(io.StringIO(f.read().decode()), on_bad_lines='skip')\n",
    "                dfs = pd.concat([dfs, df], axis=0, ignore_index=True)\n",
    "        if len(dfs) == 0:\n",
    "            raise ValueError(f\"No files found for year '{year}'.\")\n",
    "        else:\n",
    "            return dfs\n",
    "    \n",
    "    else:\n",
    "        raise ValueError(\"At least one of 'state' and 'year' must be specified.\")\n",
    "\n",
    "\n",
    "zip_path = \"/Users/luisnakayama/Downloads/ETLSINASC.zip\"\n",
    "\n"
   ]
  },
  {
   "cell_type": "markdown",
   "metadata": {},
   "source": [
    "## Dataframe com dados de São Paulo entre 1996 a 2020"
   ]
  },
  {
   "cell_type": "code",
   "execution_count": 4,
   "metadata": {},
   "outputs": [
    {
     "name": "stdout",
     "output_type": "stream",
     "text": [
      "1996\n"
     ]
    },
    {
     "name": "stderr",
     "output_type": "stream",
     "text": [
      "/var/folders/r7/8t_r52_d27v1gc9dw9h8l4_40000gn/T/ipykernel_43422/1227038755.py:1: DtypeWarning: Columns (68,69) have mixed types.Specify dtype option on import or set low_memory=False.\n",
      "  dfsp = read_csv_from_zip(zip_path, state=\"SP\")\n"
     ]
    },
    {
     "name": "stdout",
     "output_type": "stream",
     "text": [
      "1997\n",
      "1998\n",
      "1999\n"
     ]
    },
    {
     "name": "stderr",
     "output_type": "stream",
     "text": [
      "/var/folders/r7/8t_r52_d27v1gc9dw9h8l4_40000gn/T/ipykernel_43422/1227038755.py:1: DtypeWarning: Columns (20,73,74,75,76) have mixed types.Specify dtype option on import or set low_memory=False.\n",
      "  dfsp = read_csv_from_zip(zip_path, state=\"SP\")\n"
     ]
    },
    {
     "name": "stdout",
     "output_type": "stream",
     "text": [
      "2000\n",
      "2001\n",
      "2002\n",
      "2003\n",
      "2004\n",
      "2005\n",
      "2006\n",
      "2007\n",
      "2008\n",
      "2009\n",
      "2010\n"
     ]
    },
    {
     "name": "stderr",
     "output_type": "stream",
     "text": [
      "/var/folders/r7/8t_r52_d27v1gc9dw9h8l4_40000gn/T/ipykernel_43422/1227038755.py:1: DtypeWarning: Columns (21) have mixed types.Specify dtype option on import or set low_memory=False.\n",
      "  dfsp = read_csv_from_zip(zip_path, state=\"SP\")\n"
     ]
    },
    {
     "name": "stdout",
     "output_type": "stream",
     "text": [
      "2011\n",
      "2012\n",
      "2013\n"
     ]
    },
    {
     "name": "stderr",
     "output_type": "stream",
     "text": [
      "/var/folders/r7/8t_r52_d27v1gc9dw9h8l4_40000gn/T/ipykernel_43422/1227038755.py:1: DtypeWarning: Columns (44) have mixed types.Specify dtype option on import or set low_memory=False.\n",
      "  dfsp = read_csv_from_zip(zip_path, state=\"SP\")\n"
     ]
    },
    {
     "name": "stdout",
     "output_type": "stream",
     "text": [
      "2014\n"
     ]
    },
    {
     "name": "stderr",
     "output_type": "stream",
     "text": [
      "/var/folders/r7/8t_r52_d27v1gc9dw9h8l4_40000gn/T/ipykernel_43422/1227038755.py:1: DtypeWarning: Columns (17) have mixed types.Specify dtype option on import or set low_memory=False.\n",
      "  dfsp = read_csv_from_zip(zip_path, state=\"SP\")\n"
     ]
    },
    {
     "name": "stdout",
     "output_type": "stream",
     "text": [
      "2015\n",
      "2016\n",
      "2017\n",
      "2018\n",
      "2019\n",
      "2020\n"
     ]
    }
   ],
   "source": [
    "\n",
    "dfsp = read_csv_from_zip(zip_path, state=\"SP\")"
   ]
  },
  {
   "cell_type": "code",
   "execution_count": 5,
   "metadata": {},
   "outputs": [
    {
     "data": {
      "text/plain": [
       "Index(['contador', 'LOCNASC', 'CODMUNNASC', 'IDADEMAE', 'ESTCIVMAE', 'ESCMAE',\n",
       "       'CODOCUPMAE', 'QTDFILVIVO', 'QTDFILMORT', 'CODMUNRES',\n",
       "       ...\n",
       "       'CODUFNATU', 'TPNASCASSI', 'ESCMAEAGR1', 'DTRECORIGA', 'TPFUNCRESP',\n",
       "       'TPDOCRESP', 'DTDECLARAC', 'PARIDADE', 'KOTELCHUCK', 'CONTADOR'],\n",
       "      dtype='object', length=131)"
      ]
     },
     "execution_count": 5,
     "metadata": {},
     "output_type": "execute_result"
    }
   ],
   "source": [
    "dfsp.columns"
   ]
  },
  {
   "cell_type": "markdown",
   "metadata": {},
   "source": [
    "### Missing values"
   ]
  },
  {
   "cell_type": "code",
   "execution_count": 6,
   "metadata": {},
   "outputs": [
    {
     "data": {
      "text/plain": [
       "res_NOME_UF             0\n",
       "nasc_CAPITAL            0\n",
       "nasc_MSAUDCOD           0\n",
       "nasc_RSAUDCOD           0\n",
       "nasc_CSAUDCOD           0\n",
       "                   ...   \n",
       "NUMREGCART       15640735\n",
       "nasc_SUCESSOR    15652602\n",
       "res_ANOEXT       15652602\n",
       "nasc_ANOEXT      15652602\n",
       "res_SUCESSOR     15652602\n",
       "Length: 131, dtype: int64"
      ]
     },
     "execution_count": 6,
     "metadata": {},
     "output_type": "execute_result"
    }
   ],
   "source": [
    "dfsp.isna().sum().sort_values()"
   ]
  },
  {
   "cell_type": "markdown",
   "metadata": {},
   "source": [
    "## Casos totais em dataframe por ano"
   ]
  },
  {
   "cell_type": "code",
   "execution_count": 7,
   "metadata": {},
   "outputs": [
    {
     "data": {
      "text/plain": [
       "1999    714428\n",
       "1997    701947\n",
       "1996    699013\n",
       "1998    693413\n",
       "2000    687779\n",
       "2015    634026\n",
       "2001    632483\n",
       "2014    625687\n",
       "2002    623302\n",
       "2005    618880\n",
       "2004    618080\n",
       "2012    616608\n",
       "2017    611803\n",
       "2013    610896\n",
       "2003    610555\n",
       "2011    610222\n",
       "2018    606146\n",
       "2006    603368\n",
       "2008    601795\n",
       "2016    601437\n",
       "2010    601352\n",
       "2009    598473\n",
       "2007    595408\n",
       "2019    583191\n",
       "2020    552310\n",
       "Name: ano_nasc, dtype: int64"
      ]
     },
     "execution_count": 7,
     "metadata": {},
     "output_type": "execute_result"
    }
   ],
   "source": [
    "dfsp.ano_nasc.value_counts()"
   ]
  },
  {
   "cell_type": "code",
   "execution_count": 8,
   "metadata": {},
   "outputs": [
    {
     "data": {
      "image/png": "[encoded data removed]",
      "text/plain": [
       "<Figure size 1080x432 with 1 Axes>"
      ]
     },
     "metadata": {
      "needs_background": "light"
     },
     "output_type": "display_data"
    }
   ],
   "source": [
    "plt.figure(figsize=(15, 6)) \n",
    "\n",
    "ax=dfsp.ano_nasc.value_counts().plot(kind=\"bar\", width=0.8)\n",
    "plt.xlabel('Anos')\n",
    "plt.ylabel('Casos')\n",
    "for i, v in enumerate(dfsp.ano_nasc.value_counts()):\n",
    "    ax.text(i, v + 50, str(v), ha='center', fontsize=9) \n",
    "\n",
    "# Show the plot\n",
    "plt.show()"
   ]
  },
  {
   "cell_type": "markdown",
   "metadata": {},
   "source": [
    "## Análise materna  "
   ]
  },
  {
   "cell_type": "markdown",
   "metadata": {},
   "source": [
    "### Idade"
   ]
  },
  {
   "cell_type": "code",
   "execution_count": 9,
   "metadata": {},
   "outputs": [
    {
     "data": {
      "text/plain": [
       "6908"
      ]
     },
     "execution_count": 9,
     "metadata": {},
     "output_type": "execute_result"
    }
   ],
   "source": [
    "#missing idade\n",
    "dfsp.IDADEMAE.isna().sum()"
   ]
  },
  {
   "cell_type": "code",
   "execution_count": 10,
   "metadata": {},
   "outputs": [
    {
     "data": {
      "text/plain": [
       "count    1.564569e+07\n",
       "mean     2.650326e+01\n",
       "std      6.751102e+00\n",
       "min      0.000000e+00\n",
       "25%      2.100000e+01\n",
       "50%      2.600000e+01\n",
       "75%      3.100000e+01\n",
       "max      9.900000e+01\n",
       "Name: IDADEMAE, dtype: float64"
      ]
     },
     "execution_count": 10,
     "metadata": {},
     "output_type": "execute_result"
    }
   ],
   "source": [
    "dfsp.IDADEMAE.describe()"
   ]
  },
  {
   "cell_type": "code",
   "execution_count": 11,
   "metadata": {},
   "outputs": [],
   "source": [
    "#Agrupar maes adolescentes e criar variável\n",
    "def maeadolescente(x): \n",
    "    if x<18: return 'yes' \n",
    "    if x>18: return 'no' \n",
    "    else: return 'NaN'\n",
    "dfsp['mae_adolescente'] = dfsp.IDADEMAE.apply(maeadolescente)"
   ]
  },
  {
   "cell_type": "code",
   "execution_count": 12,
   "metadata": {},
   "outputs": [
    {
     "data": {
      "text/plain": [
       "no     13875496\n",
       "yes     1139767\n",
       "NaN      637339\n",
       "Name: mae_adolescente, dtype: int64"
      ]
     },
     "execution_count": 12,
     "metadata": {},
     "output_type": "execute_result"
    }
   ],
   "source": [
    "dfsp.mae_adolescente.value_counts()"
   ]
  },
  {
   "cell_type": "markdown",
   "metadata": {},
   "source": [
    "## Prematuridade"
   ]
  },
  {
   "cell_type": "code",
   "execution_count": 13,
   "metadata": {},
   "outputs": [
    {
     "data": {
      "text/plain": [
       "0.0    13618273\n",
       "2.0      728311\n",
       "3.0      683212\n",
       "1.0      551020\n",
       "Name: parto_prematuro, dtype: int64"
      ]
     },
     "execution_count": 13,
     "metadata": {},
     "output_type": "execute_result"
    }
   ],
   "source": [
    "dfsp.parto_prematuro.value_counts()"
   ]
  },
  {
   "cell_type": "code",
   "execution_count": 14,
   "metadata": {},
   "outputs": [
    {
     "data": {
      "text/plain": [
       "71786"
      ]
     },
     "execution_count": 14,
     "metadata": {},
     "output_type": "execute_result"
    }
   ],
   "source": [
    "#show missing values em prematuros\n",
    "dfsp.parto_prematuro.isna().sum()"
   ]
  },
  {
   "cell_type": "code",
   "execution_count": 15,
   "metadata": {},
   "outputs": [],
   "source": [
    "#Agrupar prematuros e criar variável\n",
    "def prematuro(x): \n",
    "    if x==0: return 'no' \n",
    "    if x>0: return 'yes' \n",
    "    else: return 'NaN'\n",
    "dfsp['prematuro'] = dfsp.parto_prematuro.apply(prematuro)"
   ]
  },
  {
   "cell_type": "code",
   "execution_count": 16,
   "metadata": {},
   "outputs": [
    {
     "data": {
      "text/plain": [
       "ano_nasc\n",
       "1996    59413\n",
       "1997    60676\n",
       "1998    59714\n",
       "1999    72633\n",
       "2000    80575\n",
       "2001    81705\n",
       "2002    72505\n",
       "2003    72798\n",
       "2004    72952\n",
       "2005    72770\n",
       "2006    72860\n",
       "2007    71768\n",
       "2008    73877\n",
       "2009    75068\n",
       "2010    75689\n",
       "2011    80287\n",
       "2012    98837\n",
       "2013    95617\n",
       "2014    93124\n",
       "2015    90865\n",
       "2016    86464\n",
       "2017    87610\n",
       "2018    88330\n",
       "2019    85413\n",
       "2020    80993\n",
       "Name: prematuro, dtype: int64"
      ]
     },
     "execution_count": 16,
     "metadata": {},
     "output_type": "execute_result"
    }
   ],
   "source": [
    "prematuro_yes = dfsp[dfsp['prematuro'] == 'yes']\n",
    "prematuro_yes.groupby('ano_nasc')['prematuro'].count()"
   ]
  },
  {
   "cell_type": "code",
   "execution_count": 17,
   "metadata": {},
   "outputs": [
    {
     "data": {
      "image/png": "[encoded data removed]",
      "text/plain": [
       "<Figure size 1080x432 with 1 Axes>"
      ]
     },
     "metadata": {
      "needs_background": "light"
     },
     "output_type": "display_data"
    }
   ],
   "source": [
    "plt.figure(figsize=(15, 6)) \n",
    "prematuro_yes.groupby('ano_nasc')['prematuro'].count().plot(kind=\"bar\",width=0.8)\n",
    "plt.xlabel('Anos')\n",
    "plt.ylabel('Preamaturos')\n",
    "plt.show()"
   ]
  },
  {
   "cell_type": "markdown",
   "metadata": {},
   "source": [
    "## Prematuros por variáveis demográficas"
   ]
  },
  {
   "cell_type": "code",
   "execution_count": 18,
   "metadata": {},
   "outputs": [
    {
     "data": {
      "text/plain": [
       "RACACOR  prematuro\n",
       "1        no           7889492\n",
       "         yes          1141034\n",
       "         NaN            34281\n",
       "2        no            370300\n",
       "         yes            66826\n",
       "         NaN              729\n",
       "3        no             52051\n",
       "         yes             7740\n",
       "         NaN              253\n",
       "4        no           2947744\n",
       "         yes           472891\n",
       "         NaN             6366\n",
       "5        no             13476\n",
       "         yes             1998\n",
       "         NaN              130\n",
       "9        no           2345210\n",
       "         yes           272054\n",
       "         NaN            30027\n",
       "Name: prematuro, dtype: int64"
      ]
     },
     "execution_count": 18,
     "metadata": {},
     "output_type": "execute_result"
    }
   ],
   "source": [
    "dfsp.groupby('RACACOR')['prematuro'].value_counts()\n"
   ]
  },
  {
   "cell_type": "code",
   "execution_count": 19,
   "metadata": {},
   "outputs": [
    {
     "data": {
      "text/plain": [
       "<AxesSubplot:xlabel='def_raca_cor'>"
      ]
     },
     "execution_count": 19,
     "metadata": {},
     "output_type": "execute_result"
    },
    {
     "data": {
      "image/png": "[encoded data removed]",
      "text/plain": [
       "<Figure size 432x288 with 1 Axes>"
      ]
     },
     "metadata": {
      "needs_background": "light"
     },
     "output_type": "display_data"
    }
   ],
   "source": [
    "proportions=dfsp.groupby('def_raca_cor')['prematuro'].value_counts(normalize=True)\n",
    "wide_proportions = proportions.unstack()\n",
    "\n",
    "wide_proportions.plot(kind='bar', stacked=True)"
   ]
  },
  {
   "cell_type": "code",
   "execution_count": 20,
   "metadata": {},
   "outputs": [
    {
     "data": {
      "text/plain": [
       "def_escol_mae  prematuro\n",
       "1 a 3 anos     no           0.867404\n",
       "               yes          0.125652\n",
       "               NaN          0.006944\n",
       "12 e mais      no           0.871840\n",
       "               yes          0.127121\n",
       "               NaN          0.001039\n",
       "4 a 7 anos     no           0.861347\n",
       "               yes          0.136505\n",
       "               NaN          0.002148\n",
       "8 a 11 anos    no           0.867799\n",
       "               yes          0.131309\n",
       "               NaN          0.000892\n",
       "Ignorado       no           0.885668\n",
       "               yes          0.092354\n",
       "               NaN          0.021978\n",
       "Nenhuma        no           0.852021\n",
       "               yes          0.142285\n",
       "               NaN          0.005694\n",
       "Name: prematuro, dtype: float64"
      ]
     },
     "execution_count": 20,
     "metadata": {},
     "output_type": "execute_result"
    }
   ],
   "source": [
    "dfsp.groupby('def_escol_mae')['prematuro'].value_counts(normalize=True)"
   ]
  },
  {
   "cell_type": "code",
   "execution_count": 21,
   "metadata": {},
   "outputs": [
    {
     "data": {
      "text/plain": [
       "<AxesSubplot:xlabel='def_escol_mae'>"
      ]
     },
     "execution_count": 21,
     "metadata": {},
     "output_type": "execute_result"
    },
    {
     "data": {
      "image/png": "[encoded data removed]",
      "text/plain": [
       "<Figure size 432x288 with 1 Axes>"
      ]
     },
     "metadata": {
      "needs_background": "light"
     },
     "output_type": "display_data"
    }
   ],
   "source": [
    "proportions=dfsp.groupby('def_escol_mae')['prematuro'].value_counts(normalize=True)\n",
    "wide_proportions = proportions.unstack()\n",
    "\n",
    "wide_proportions.plot(kind='bar', stacked=True)"
   ]
  },
  {
   "cell_type": "code",
   "execution_count": 22,
   "metadata": {},
   "outputs": [
    {
     "data": {
      "text/plain": [
       "mae_adolescente  prematuro\n",
       "NaN              no             544946\n",
       "                 yes             84106\n",
       "                 NaN              8287\n",
       "no               no           12111202\n",
       "                 yes           1707554\n",
       "                 NaN             56740\n",
       "yes              no             962125\n",
       "                 yes            170883\n",
       "                 NaN              6759\n",
       "Name: prematuro, dtype: int64"
      ]
     },
     "execution_count": 22,
     "metadata": {},
     "output_type": "execute_result"
    }
   ],
   "source": [
    "dfsp.groupby('mae_adolescente')['prematuro'].value_counts()"
   ]
  },
  {
   "cell_type": "code",
   "execution_count": 23,
   "metadata": {},
   "outputs": [
    {
     "data": {
      "text/plain": [
       "<AxesSubplot:xlabel='mae_adolescente'>"
      ]
     },
     "execution_count": 23,
     "metadata": {},
     "output_type": "execute_result"
    },
    {
     "data": {
      "image/png": "[encoded data removed]",
      "text/plain": [
       "<Figure size 432x288 with 1 Axes>"
      ]
     },
     "metadata": {
      "needs_background": "light"
     },
     "output_type": "display_data"
    }
   ],
   "source": [
    "proportions=dfsp.groupby('mae_adolescente')['prematuro'].value_counts(normalize=True)\n",
    "wide_proportions = proportions.unstack()\n",
    "\n",
    "wide_proportions.plot(kind='bar', stacked=True)"
   ]
  },
  {
   "cell_type": "code",
   "execution_count": 24,
   "metadata": {},
   "outputs": [
    {
     "data": {
      "text/plain": [
       "def_anomalia  mae_adolescente\n",
       "Ignorado      no                   631638\n",
       "              yes                   58471\n",
       "              NaN                   33579\n",
       "Não           no                 10139209\n",
       "              yes                  756496\n",
       "              NaN                  417014\n",
       "Sim           no                   107583\n",
       "              yes                    7905\n",
       "              NaN                    4127\n",
       "Name: mae_adolescente, dtype: int64"
      ]
     },
     "execution_count": 24,
     "metadata": {},
     "output_type": "execute_result"
    }
   ],
   "source": [
    "dfsp.groupby('def_anomalia')['mae_adolescente'].value_counts()"
   ]
  },
  {
   "cell_type": "code",
   "execution_count": null,
   "metadata": {},
   "outputs": [],
   "source": []
  }
 ],
 "metadata": {
  "interpreter": {
   "hash": "37067346aeabd3ec11f0d6a36e38dc9f30d97b42052578929dcbc8116d3c71fd"
  },
  "kernelspec": {
   "display_name": "Python 3.9.13 ('base')",
   "language": "python",
   "name": "python3"
  },
  "language_info": {
   "codemirror_mode": {
    "name": "ipython",
    "version": 3
   },
   "file_extension": ".py",
   "mimetype": "text/x-python",
   "name": "python",
   "nbconvert_exporter": "python",
   "pygments_lexer": "ipython3",
   "version": "3.9.13"
  },
  "orig_nbformat": 4
 },
 "nbformat": 4,
 "nbformat_minor": 2
}
